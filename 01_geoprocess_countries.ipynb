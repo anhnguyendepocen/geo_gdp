{
 "cells": [
  {
   "cell_type": "code",
   "execution_count": 1,
   "metadata": {
    "collapsed": false
   },
   "outputs": [],
   "source": [
    "import os\n",
    "import urllib\n",
    "from urllib2 import urlopen, URLError, HTTPError\n",
    "\n",
    "import pycurl\n",
    "import re\n",
    "import urllib2\n",
    "\n",
    "import fiona\n",
    "import geopandas as gpd\n",
    "import glob\n",
    "from rasterstats import zonal_stats\n",
    "import pandas as pd\n",
    "import pickle\n",
    "\n",
    "from library.geoprocess import get_tif_ids, zonal_to_shp\n",
    "from library.utilities import mkdir, dlfile"
   ]
  },
  {
   "cell_type": "code",
   "execution_count": null,
   "metadata": {
    "collapsed": false
   },
   "outputs": [],
   "source": [
    "# make data directory if it doesn't already exist\n",
    "data_dir = 'data'\n",
    "if not os.path.exists(data_dir):\n",
    "    os.makedirs(data_dir)"
   ]
  },
  {
   "cell_type": "code",
   "execution_count": null,
   "metadata": {
    "collapsed": false
   },
   "outputs": [],
   "source": [
    "# get country shapefiles\n",
    "url = 'http://biogeo.ucdavis.edu/data/world/countries_shp.zip'\n",
    "countries_input = urllib.urlretrieve(url)"
   ]
  },
  {
   "cell_type": "code",
   "execution_count": null,
   "metadata": {
    "collapsed": true
   },
   "outputs": [],
   "source": [
    "def dlfile(url, data_dir, filename):\n",
    "    # Open the url\n",
    "    try:\n",
    "        f = urlopen(url)\n",
    "        print \"downloading \" + url\n",
    "        # File path\n",
    "        file_path = os.path.join(data_dir, filename)\n",
    "        # Open our local file for writing\n",
    "        with open(file_path, \"wb\") as local_file:\n",
    "            local_file.write(f.read())\n",
    "        print file_path\n",
    "        print os.path.basename(file_path)\n",
    "    #handle errors\n",
    "    except HTTPError, e:\n",
    "        print \"HTTP Error:\", e.code, url\n",
    "    except URLError, e:\n",
    "        print \"URL Error:\", e.reason, url"
   ]
  },
  {
   "cell_type": "code",
   "execution_count": null,
   "metadata": {
    "collapsed": false
   },
   "outputs": [],
   "source": [
    "dlfile(url, 'data', 'countries_shp.zip')"
   ]
  },
  {
   "cell_type": "code",
   "execution_count": null,
   "metadata": {
    "collapsed": true
   },
   "outputs": [],
   "source": [
    "import re\n",
    "import urllib2\n",
    "import pycurl\n",
    "\n",
    "url = \"http://server.domain/\"\n",
    "path = \"path/\"\n",
    "pattern = '<A HREF=\"/%s.*?\">(.*?)</A>' % path\n",
    "\n",
    "response = urllib2.urlopen(url+path).read()\n",
    "\n",
    "for filename in re.findall(pattern, response):\n",
    "    fp = open(filename, \"wb\")\n",
    "    curl = pycurl.Curl()\n",
    "    curl.setopt(pycurl.URL, url+path+filename)\n",
    "    curl.setopt(pycurl.WRITEDATA, fp)\n",
    "    curl.perform()\n",
    "    curl.close()\n",
    "    fp.close()"
   ]
  },
  {
   "cell_type": "code",
   "execution_count": null,
   "metadata": {
    "collapsed": false
   },
   "outputs": [],
   "source": [
    "shp = 'data/geo/countries/countries_nf2.shp'\n",
    "gdf = gpd.GeoDataFrame.from_file(shp); gdf.head(3)"
   ]
  },
  {
   "cell_type": "code",
   "execution_count": null,
   "metadata": {
    "collapsed": false
   },
   "outputs": [],
   "source": [
    "# calculate zonal stats for each country\n",
    "#gdf = zonal_to_shp('data/geo/images', 'data/geo/countries/countries_nf2.shp'); gdf.head(3)"
   ]
  },
  {
   "cell_type": "code",
   "execution_count": null,
   "metadata": {
    "collapsed": false
   },
   "outputs": [],
   "source": [
    "# extract 1992 column\n",
    "gdf_1992 = gdf[['ISO_A3', 'WB_A3', 'F101992']]; gdf_1992.head(3)"
   ]
  },
  {
   "cell_type": "code",
   "execution_count": null,
   "metadata": {
    "collapsed": false
   },
   "outputs": [],
   "source": [
    "# pickle country-level zonal stats\n",
    "with open('data/geo/pickles/zonal_stats_c.pickle', 'wb') as f:\n",
    "    pickle.dump(gdf, f)"
   ]
  },
  {
   "cell_type": "code",
   "execution_count": null,
   "metadata": {
    "collapsed": true
   },
   "outputs": [],
   "source": [
    "# pickle 1992 column\n",
    "with open('data/geo/pickles/zonal_stats_c92.pickle', 'wb') as f:\n",
    "    pickle.dump(gdf_1992, f)"
   ]
  }
 ],
 "metadata": {
  "kernelspec": {
   "display_name": "Python 2",
   "language": "python",
   "name": "python2"
  },
  "language_info": {
   "codemirror_mode": {
    "name": "ipython",
    "version": 2
   },
   "file_extension": ".py",
   "mimetype": "text/x-python",
   "name": "python",
   "nbconvert_exporter": "python",
   "pygments_lexer": "ipython2",
   "version": "2.7.11"
  }
 },
 "nbformat": 4,
 "nbformat_minor": 0
}
