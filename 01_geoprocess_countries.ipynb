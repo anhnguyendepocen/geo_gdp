{
 "cells": [
  {
   "cell_type": "code",
   "execution_count": 2,
   "metadata": {
    "collapsed": false
   },
   "outputs": [
    {
     "ename": "ImportError",
     "evalue": "No module named library.geoprocess",
     "output_type": "error",
     "traceback": [
      "\u001b[0;31m---------------------------------------------------------------------------\u001b[0m",
      "\u001b[0;31mImportError\u001b[0m                               Traceback (most recent call last)",
      "\u001b[0;32m<ipython-input-2-c24e95f8d837>\u001b[0m in \u001b[0;36m<module>\u001b[0;34m()\u001b[0m\n\u001b[1;32m      7\u001b[0m \u001b[0;32mimport\u001b[0m \u001b[0mpickle\u001b[0m\u001b[0;34m\u001b[0m\u001b[0m\n\u001b[1;32m      8\u001b[0m \u001b[0;34m\u001b[0m\u001b[0m\n\u001b[0;32m----> 9\u001b[0;31m \u001b[0;32mfrom\u001b[0m \u001b[0mlibrary\u001b[0m\u001b[0;34m.\u001b[0m\u001b[0mgeoprocess\u001b[0m \u001b[0;32mimport\u001b[0m \u001b[0mget_tif_ids\u001b[0m\u001b[0;34m,\u001b[0m \u001b[0mzonal_to_shp\u001b[0m\u001b[0;34m\u001b[0m\u001b[0m\n\u001b[0m",
      "\u001b[0;31mImportError\u001b[0m: No module named library.geoprocess"
     ]
    }
   ],
   "source": [
    "import pycurl\n",
    "import fiona\n",
    "import geopandas as gpd\n",
    "import glob\n",
    "from rasterstats import zonal_stats\n",
    "import pandas as pd\n",
    "import pickle\n",
    "\n",
    "from library.geoprocess import get_tif_ids, zonal_to_shp"
   ]
  },
  {
   "cell_type": "code",
   "execution_count": 1,
   "metadata": {
    "collapsed": true
   },
   "outputs": [],
   "source": []
  },
  {
   "cell_type": "code",
   "execution_count": 2,
   "metadata": {
    "collapsed": false
   },
   "outputs": [
    {
     "data": {
      "text/html": [
       "<div>\n",
       "<table border=\"1\" class=\"dataframe\">\n",
       "  <thead>\n",
       "    <tr style=\"text-align: right;\">\n",
       "      <th></th>\n",
       "      <th>ADMIN</th>\n",
       "      <th>CONTINENT</th>\n",
       "      <th>ISO_A3</th>\n",
       "      <th>REGION_UN</th>\n",
       "      <th>REGION_WB</th>\n",
       "      <th>SUBREGION</th>\n",
       "      <th>WB_A3</th>\n",
       "      <th>geometry</th>\n",
       "    </tr>\n",
       "  </thead>\n",
       "  <tbody>\n",
       "    <tr>\n",
       "      <th>0</th>\n",
       "      <td>Aruba</td>\n",
       "      <td>North America</td>\n",
       "      <td>ABW</td>\n",
       "      <td>Americas</td>\n",
       "      <td>Latin America &amp; Caribbean</td>\n",
       "      <td>Caribbean</td>\n",
       "      <td>ABW</td>\n",
       "      <td>POLYGON ((-69.99693762899992 12.57758209800004...</td>\n",
       "    </tr>\n",
       "    <tr>\n",
       "      <th>1</th>\n",
       "      <td>Afghanistan</td>\n",
       "      <td>Asia</td>\n",
       "      <td>AFG</td>\n",
       "      <td>Asia</td>\n",
       "      <td>South Asia</td>\n",
       "      <td>Southern Asia</td>\n",
       "      <td>AFG</td>\n",
       "      <td>POLYGON ((71.04980228700009 38.40866445000009,...</td>\n",
       "    </tr>\n",
       "    <tr>\n",
       "      <th>2</th>\n",
       "      <td>Angola</td>\n",
       "      <td>Africa</td>\n",
       "      <td>AGO</td>\n",
       "      <td>Africa</td>\n",
       "      <td>Sub-Saharan Africa</td>\n",
       "      <td>Middle Africa</td>\n",
       "      <td>AGO</td>\n",
       "      <td>(POLYGON ((11.73751945100014 -16.6925779829998...</td>\n",
       "    </tr>\n",
       "  </tbody>\n",
       "</table>\n",
       "</div>"
      ],
      "text/plain": [
       "         ADMIN      CONTINENT ISO_A3 REGION_UN                  REGION_WB  \\\n",
       "0        Aruba  North America    ABW  Americas  Latin America & Caribbean   \n",
       "1  Afghanistan           Asia    AFG      Asia                 South Asia   \n",
       "2       Angola         Africa    AGO    Africa         Sub-Saharan Africa   \n",
       "\n",
       "       SUBREGION WB_A3                                           geometry  \n",
       "0      Caribbean   ABW  POLYGON ((-69.99693762899992 12.57758209800004...  \n",
       "1  Southern Asia   AFG  POLYGON ((71.04980228700009 38.40866445000009,...  \n",
       "2  Middle Africa   AGO  (POLYGON ((11.73751945100014 -16.6925779829998...  "
      ]
     },
     "execution_count": 2,
     "metadata": {},
     "output_type": "execute_result"
    }
   ],
   "source": [
    "shp = 'data/geo/countries/countries_nf2.shp'\n",
    "gdf = gpd.GeoDataFrame.from_file(shp); gdf.head(3)"
   ]
  },
  {
   "cell_type": "code",
   "execution_count": 10,
   "metadata": {
    "collapsed": false
   },
   "outputs": [
    {
     "data": {
      "text/html": [
       "<div>\n",
       "<table border=\"1\" class=\"dataframe\">\n",
       "  <thead>\n",
       "    <tr style=\"text-align: right;\">\n",
       "      <th></th>\n",
       "      <th>ADMIN</th>\n",
       "      <th>CONTINENT</th>\n",
       "      <th>ISO_A3</th>\n",
       "      <th>REGION_UN</th>\n",
       "      <th>REGION_WB</th>\n",
       "      <th>SUBREGION</th>\n",
       "      <th>WB_A3</th>\n",
       "      <th>geometry</th>\n",
       "      <th>F101992</th>\n",
       "      <th>F101993</th>\n",
       "      <th>...</th>\n",
       "      <th>F162004</th>\n",
       "      <th>F162005</th>\n",
       "      <th>F162006</th>\n",
       "      <th>F162007</th>\n",
       "      <th>F162008</th>\n",
       "      <th>F162009</th>\n",
       "      <th>F182010</th>\n",
       "      <th>F182011</th>\n",
       "      <th>F182012</th>\n",
       "      <th>F182013</th>\n",
       "    </tr>\n",
       "  </thead>\n",
       "  <tbody>\n",
       "    <tr>\n",
       "      <th>0</th>\n",
       "      <td>Aruba</td>\n",
       "      <td>North America</td>\n",
       "      <td>ABW</td>\n",
       "      <td>Americas</td>\n",
       "      <td>Latin America &amp; Caribbean</td>\n",
       "      <td>Caribbean</td>\n",
       "      <td>ABW</td>\n",
       "      <td>POLYGON ((-69.99693762899992 12.57758209800004...</td>\n",
       "      <td>6177.0</td>\n",
       "      <td>6232.0</td>\n",
       "      <td>...</td>\n",
       "      <td>7335.0</td>\n",
       "      <td>7242.0</td>\n",
       "      <td>7184.0</td>\n",
       "      <td>7553.0</td>\n",
       "      <td>7282.0</td>\n",
       "      <td>6744.0</td>\n",
       "      <td>7138.0</td>\n",
       "      <td>7336.0</td>\n",
       "      <td>7562.0</td>\n",
       "      <td>7371.0</td>\n",
       "    </tr>\n",
       "    <tr>\n",
       "      <th>1</th>\n",
       "      <td>Afghanistan</td>\n",
       "      <td>Asia</td>\n",
       "      <td>AFG</td>\n",
       "      <td>Asia</td>\n",
       "      <td>South Asia</td>\n",
       "      <td>Southern Asia</td>\n",
       "      <td>AFG</td>\n",
       "      <td>POLYGON ((71.04980228700009 38.40866445000009,...</td>\n",
       "      <td>25186.0</td>\n",
       "      <td>18505.0</td>\n",
       "      <td>...</td>\n",
       "      <td>75134.0</td>\n",
       "      <td>86521.0</td>\n",
       "      <td>98660.0</td>\n",
       "      <td>112196.0</td>\n",
       "      <td>89119.0</td>\n",
       "      <td>97326.0</td>\n",
       "      <td>177007.0</td>\n",
       "      <td>159544.0</td>\n",
       "      <td>191545.0</td>\n",
       "      <td>175082.0</td>\n",
       "    </tr>\n",
       "    <tr>\n",
       "      <th>2</th>\n",
       "      <td>Angola</td>\n",
       "      <td>Africa</td>\n",
       "      <td>AGO</td>\n",
       "      <td>Africa</td>\n",
       "      <td>Sub-Saharan Africa</td>\n",
       "      <td>Middle Africa</td>\n",
       "      <td>AGO</td>\n",
       "      <td>(POLYGON ((11.73751945100014 -16.6925779829998...</td>\n",
       "      <td>42041.0</td>\n",
       "      <td>42094.0</td>\n",
       "      <td>...</td>\n",
       "      <td>73147.0</td>\n",
       "      <td>62238.0</td>\n",
       "      <td>85454.0</td>\n",
       "      <td>102922.0</td>\n",
       "      <td>128467.0</td>\n",
       "      <td>149756.0</td>\n",
       "      <td>246623.0</td>\n",
       "      <td>226180.0</td>\n",
       "      <td>268144.0</td>\n",
       "      <td>271021.0</td>\n",
       "    </tr>\n",
       "  </tbody>\n",
       "</table>\n",
       "<p>3 rows × 42 columns</p>\n",
       "</div>"
      ],
      "text/plain": [
       "         ADMIN      CONTINENT ISO_A3 REGION_UN                  REGION_WB  \\\n",
       "0        Aruba  North America    ABW  Americas  Latin America & Caribbean   \n",
       "1  Afghanistan           Asia    AFG      Asia                 South Asia   \n",
       "2       Angola         Africa    AGO    Africa         Sub-Saharan Africa   \n",
       "\n",
       "       SUBREGION WB_A3                                           geometry  \\\n",
       "0      Caribbean   ABW  POLYGON ((-69.99693762899992 12.57758209800004...   \n",
       "1  Southern Asia   AFG  POLYGON ((71.04980228700009 38.40866445000009,...   \n",
       "2  Middle Africa   AGO  (POLYGON ((11.73751945100014 -16.6925779829998...   \n",
       "\n",
       "   F101992  F101993    ...     F162004  F162005  F162006   F162007   F162008  \\\n",
       "0   6177.0   6232.0    ...      7335.0   7242.0   7184.0    7553.0    7282.0   \n",
       "1  25186.0  18505.0    ...     75134.0  86521.0  98660.0  112196.0   89119.0   \n",
       "2  42041.0  42094.0    ...     73147.0  62238.0  85454.0  102922.0  128467.0   \n",
       "\n",
       "    F162009   F182010   F182011   F182012   F182013  \n",
       "0    6744.0    7138.0    7336.0    7562.0    7371.0  \n",
       "1   97326.0  177007.0  159544.0  191545.0  175082.0  \n",
       "2  149756.0  246623.0  226180.0  268144.0  271021.0  \n",
       "\n",
       "[3 rows x 42 columns]"
      ]
     },
     "execution_count": 10,
     "metadata": {},
     "output_type": "execute_result"
    }
   ],
   "source": [
    "# calculate zonal stats for each country\n",
    "#gdf = zonal_to_shp('data/geo/images', 'data/geo/countries/countries_nf2.shp'); gdf.head(3)"
   ]
  },
  {
   "cell_type": "code",
   "execution_count": 14,
   "metadata": {
    "collapsed": false
   },
   "outputs": [
    {
     "data": {
      "text/html": [
       "<div>\n",
       "<table border=\"1\" class=\"dataframe\">\n",
       "  <thead>\n",
       "    <tr style=\"text-align: right;\">\n",
       "      <th></th>\n",
       "      <th>ISO_A3</th>\n",
       "      <th>WB_A3</th>\n",
       "      <th>F101992</th>\n",
       "    </tr>\n",
       "  </thead>\n",
       "  <tbody>\n",
       "    <tr>\n",
       "      <th>0</th>\n",
       "      <td>ABW</td>\n",
       "      <td>ABW</td>\n",
       "      <td>6177.0</td>\n",
       "    </tr>\n",
       "    <tr>\n",
       "      <th>1</th>\n",
       "      <td>AFG</td>\n",
       "      <td>AFG</td>\n",
       "      <td>25186.0</td>\n",
       "    </tr>\n",
       "    <tr>\n",
       "      <th>2</th>\n",
       "      <td>AGO</td>\n",
       "      <td>AGO</td>\n",
       "      <td>42041.0</td>\n",
       "    </tr>\n",
       "  </tbody>\n",
       "</table>\n",
       "</div>"
      ],
      "text/plain": [
       "  ISO_A3 WB_A3  F101992\n",
       "0    ABW   ABW   6177.0\n",
       "1    AFG   AFG  25186.0\n",
       "2    AGO   AGO  42041.0"
      ]
     },
     "execution_count": 14,
     "metadata": {},
     "output_type": "execute_result"
    }
   ],
   "source": [
    "# extract 1992 column\n",
    "gdf_1992 = gdf[['ISO_A3', 'WB_A3', 'F101992']]; gdf_1992.head(3)"
   ]
  },
  {
   "cell_type": "code",
   "execution_count": 15,
   "metadata": {
    "collapsed": false
   },
   "outputs": [],
   "source": [
    "# pickle country-level zonal stats\n",
    "with open('data/geo/pickles/zonal_stats_c.pickle', 'wb') as f:\n",
    "    pickle.dump(gdf, f)"
   ]
  },
  {
   "cell_type": "code",
   "execution_count": 16,
   "metadata": {
    "collapsed": true
   },
   "outputs": [],
   "source": [
    "# pickle 1992 column\n",
    "with open('data/geo/pickles/zonal_stats_c92.pickle', 'wb') as f:\n",
    "    pickle.dump(gdf_1992, f)"
   ]
  }
 ],
 "metadata": {
  "kernelspec": {
   "display_name": "Python 2",
   "language": "python",
   "name": "python2"
  },
  "language_info": {
   "codemirror_mode": {
    "name": "ipython",
    "version": 2
   },
   "file_extension": ".py",
   "mimetype": "text/x-python",
   "name": "python",
   "nbconvert_exporter": "python",
   "pygments_lexer": "ipython2",
   "version": "2.7.11"
  }
 },
 "nbformat": 4,
 "nbformat_minor": 0
}
