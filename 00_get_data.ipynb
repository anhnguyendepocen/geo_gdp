{
 "cells": [
  {
   "cell_type": "code",
   "execution_count": 38,
   "metadata": {
    "collapsed": false
   },
   "outputs": [],
   "source": [
    "import os\n",
    "import urllib\n",
    "from urllib2 import urlopen, URLError, HTTPError\n",
    "import zipfile\n",
    "from bs4 import BeautifulSoup\n",
    "import re\n",
    "\n",
    "import pycurl\n",
    "import re\n",
    "import urllib2\n",
    "\n",
    "import fiona\n",
    "import geopandas as gpd\n",
    "import glob\n",
    "from rasterstats import zonal_stats\n",
    "import pandas as pd\n",
    "import pickle\n",
    "\n",
    "from library.geoprocess import get_tif_ids, zonal_to_shp\n",
    "from library.utilities import mkdir, dlfile, unzip_file"
   ]
  },
  {
   "cell_type": "code",
   "execution_count": 9,
   "metadata": {
    "collapsed": false
   },
   "outputs": [],
   "source": [
    "# make data, shp, and countries directories if they don't already exist\n",
    "mkdir('data/shp/countries')"
   ]
  },
  {
   "cell_type": "code",
   "execution_count": 10,
   "metadata": {
    "collapsed": false
   },
   "outputs": [
    {
     "name": "stdout",
     "output_type": "stream",
     "text": [
      "downloading http://biogeo.ucdavis.edu/data/world/countries_shp.zip\n",
      "data/shp/countries/countries_shp.zip\n",
      "countries_shp.zip\n"
     ]
    }
   ],
   "source": [
    "# get country shapefiles zipfile\n",
    "url = 'http://biogeo.ucdavis.edu/data/world/countries_shp.zip'\n",
    "countries_input = urllib.urlretrieve(url)\n",
    "dlfile(url, 'data/shp/countries', 'countries_shp.zip')"
   ]
  },
  {
   "cell_type": "code",
   "execution_count": 11,
   "metadata": {
    "collapsed": true
   },
   "outputs": [],
   "source": [
    "# unzip shapefiles\n",
    "unzip_file('data/shp/countries/countries_shp.zip', 'data/shp/countries')"
   ]
  },
  {
   "cell_type": "code",
   "execution_count": 14,
   "metadata": {
    "collapsed": false
   },
   "outputs": [
    {
     "data": {
      "text/html": [
       "<div>\n",
       "<table border=\"1\" class=\"dataframe\">\n",
       "  <thead>\n",
       "    <tr style=\"text-align: right;\">\n",
       "      <th></th>\n",
       "      <th>CONTINENT</th>\n",
       "      <th>COUNTRY</th>\n",
       "      <th>ENGLISH</th>\n",
       "      <th>EU</th>\n",
       "      <th>FAO</th>\n",
       "      <th>FIPS</th>\n",
       "      <th>FRENCH</th>\n",
       "      <th>ISO2</th>\n",
       "      <th>ISO3</th>\n",
       "      <th>LOCAL</th>\n",
       "      <th>NAME</th>\n",
       "      <th>OBJECTID</th>\n",
       "      <th>SOVEREIGN</th>\n",
       "      <th>SPANISH</th>\n",
       "      <th>SQKM</th>\n",
       "      <th>UNREG1</th>\n",
       "      <th>UNREG2</th>\n",
       "      <th>WAS_ISO</th>\n",
       "      <th>geometry</th>\n",
       "    </tr>\n",
       "  </thead>\n",
       "  <tbody>\n",
       "    <tr>\n",
       "      <th>0</th>\n",
       "      <td>Europe</td>\n",
       "      <td>Åland</td>\n",
       "      <td>Åland</td>\n",
       "      <td>0</td>\n",
       "      <td>None</td>\n",
       "      <td>AX</td>\n",
       "      <td>None</td>\n",
       "      <td>AX</td>\n",
       "      <td>ALA</td>\n",
       "      <td>Åland</td>\n",
       "      <td>Åland</td>\n",
       "      <td>1</td>\n",
       "      <td>Finland</td>\n",
       "      <td>None</td>\n",
       "      <td>1243.719143</td>\n",
       "      <td>Northern Europe</td>\n",
       "      <td>Europe</td>\n",
       "      <td>None</td>\n",
       "      <td>(POLYGON ((20.99566650547376 60.64227676165353...</td>\n",
       "    </tr>\n",
       "    <tr>\n",
       "      <th>1</th>\n",
       "      <td>Asia</td>\n",
       "      <td>Afghanistan</td>\n",
       "      <td>Afghanistan</td>\n",
       "      <td>0</td>\n",
       "      <td>Afghanistan</td>\n",
       "      <td>AF</td>\n",
       "      <td>Afghanistan</td>\n",
       "      <td>AF</td>\n",
       "      <td>AFG</td>\n",
       "      <td>Afghanestan</td>\n",
       "      <td>Afghanistan</td>\n",
       "      <td>2</td>\n",
       "      <td>Afghanistan</td>\n",
       "      <td>Afganistán</td>\n",
       "      <td>641383.422787</td>\n",
       "      <td>Southern Asia</td>\n",
       "      <td>Asia</td>\n",
       "      <td>None</td>\n",
       "      <td>POLYGON ((73.2733612030425 36.88855743734217, ...</td>\n",
       "    </tr>\n",
       "    <tr>\n",
       "      <th>2</th>\n",
       "      <td>Europe</td>\n",
       "      <td>Albania</td>\n",
       "      <td>Albania</td>\n",
       "      <td>0</td>\n",
       "      <td>Albania</td>\n",
       "      <td>AL</td>\n",
       "      <td>Albanie</td>\n",
       "      <td>AL</td>\n",
       "      <td>ALB</td>\n",
       "      <td>Shqiperia</td>\n",
       "      <td>Albania</td>\n",
       "      <td>3</td>\n",
       "      <td>Albania</td>\n",
       "      <td>Albania</td>\n",
       "      <td>28486.109599</td>\n",
       "      <td>Southern Europe</td>\n",
       "      <td>Europe</td>\n",
       "      <td>None</td>\n",
       "      <td>(POLYGON ((20.98056793146918 40.85522079417342...</td>\n",
       "    </tr>\n",
       "  </tbody>\n",
       "</table>\n",
       "</div>"
      ],
      "text/plain": [
       "  CONTINENT      COUNTRY      ENGLISH  EU          FAO FIPS       FRENCH ISO2  \\\n",
       "0    Europe        Åland        Åland   0         None   AX         None   AX   \n",
       "1      Asia  Afghanistan  Afghanistan   0  Afghanistan   AF  Afghanistan   AF   \n",
       "2    Europe      Albania      Albania   0      Albania   AL      Albanie   AL   \n",
       "\n",
       "  ISO3        LOCAL         NAME  OBJECTID    SOVEREIGN     SPANISH  \\\n",
       "0  ALA        Åland        Åland         1      Finland        None   \n",
       "1  AFG  Afghanestan  Afghanistan         2  Afghanistan  Afganistán   \n",
       "2  ALB    Shqiperia      Albania         3      Albania     Albania   \n",
       "\n",
       "            SQKM           UNREG1  UNREG2 WAS_ISO  \\\n",
       "0    1243.719143  Northern Europe  Europe    None   \n",
       "1  641383.422787    Southern Asia    Asia    None   \n",
       "2   28486.109599  Southern Europe  Europe    None   \n",
       "\n",
       "                                            geometry  \n",
       "0  (POLYGON ((20.99566650547376 60.64227676165353...  \n",
       "1  POLYGON ((73.2733612030425 36.88855743734217, ...  \n",
       "2  (POLYGON ((20.98056793146918 40.85522079417342...  "
      ]
     },
     "execution_count": 14,
     "metadata": {},
     "output_type": "execute_result"
    }
   ],
   "source": [
    "# read in countries shapefile\n",
    "shp = 'data/shp/countries/countries.shp'\n",
    "gdf = gpd.GeoDataFrame.from_file(shp); gdf.head(3)"
   ]
  },
  {
   "cell_type": "code",
   "execution_count": 46,
   "metadata": {
    "collapsed": false,
    "scrolled": true
   },
   "outputs": [
    {
     "data": {
      "text/plain": [
       "['/eog/data/web_data/v4composites/F101992.v4.tar',\n",
       " '/eog/data/web_data/v4composites/F101993.v4.tar',\n",
       " '/eog/data/web_data/v4composites/F101994.v4.tar',\n",
       " '/eog/data/web_data/v4composites/F121994.v4.tar',\n",
       " '/eog/data/web_data/v4composites/F121995.v4.tar',\n",
       " '/eog/data/web_data/v4composites/F121996.v4.tar',\n",
       " '/eog/data/web_data/v4composites/F121997.v4.tar',\n",
       " '/eog/data/web_data/v4composites/F141997.v4.tar',\n",
       " '/eog/data/web_data/v4composites/F121998.v4.tar',\n",
       " '/eog/data/web_data/v4composites/F141998.v4.tar',\n",
       " '/eog/data/web_data/v4composites/F121999.v4.tar',\n",
       " '/eog/data/web_data/v4composites/F141999.v4.tar',\n",
       " '/eog/data/web_data/v4composites/F142000.v4.tar',\n",
       " '/eog/data/web_data/v4composites/F152000.v4.tar',\n",
       " '/eog/data/web_data/v4composites/F142001.v4.tar',\n",
       " '/eog/data/web_data/v4composites/F152001.v4.tar',\n",
       " '/eog/data/web_data/v4composites/F142002.v4.tar',\n",
       " '/eog/data/web_data/v4composites/F152002.v4.tar',\n",
       " '/eog/data/web_data/v4composites/F142003.v4.tar',\n",
       " '/eog/data/web_data/v4composites/F152003.v4.tar',\n",
       " '/eog/data/web_data/v4composites/F152004.v4.tar',\n",
       " '/eog/data/web_data/v4composites/F162004.v4.tar',\n",
       " '/eog/data/web_data/v4composites/F152005.v4.tar',\n",
       " '/eog/data/web_data/v4composites/F162005.v4.tar',\n",
       " '/eog/data/web_data/v4composites/F152006.v4.tar',\n",
       " '/eog/data/web_data/v4composites/F162006.v4.tar',\n",
       " '/eog/data/web_data/v4composites/F152007.v4.tar',\n",
       " '/eog/data/web_data/v4composites/F162007.v4.tar',\n",
       " '/eog/data/web_data/v4composites/F162008.v4.tar',\n",
       " '/eog/data/web_data/v4composites/F162009.v4.tar',\n",
       " '/eog/data/web_data/v4composites/F182010.v4.tar',\n",
       " '/eog/data/web_data/v4composites/F182011.v4.tar',\n",
       " '/eog/data/web_data/v4composites/F182012.v4.tar',\n",
       " '/eog/data/web_data/v4composites/F182013.v4.tar',\n",
       " '/eog/data/web_data/v4avg_lights_x_pct/F101992.v4b.avg_lights_x_pct.tar',\n",
       " '/eog/data/web_data/v4avg_lights_x_pct/F101993.v4b.avg_lights_x_pct.tar',\n",
       " '/eog/data/web_data/v4avg_lights_x_pct/F101994.v4b.avg_lights_x_pct.tar',\n",
       " '/eog/data/web_data/v4avg_lights_x_pct/F121994.v4b.avg_lights_x_pct.tar',\n",
       " '/eog/data/web_data/v4avg_lights_x_pct/F121995.v4b.avg_lights_x_pct.tar',\n",
       " '/eog/data/web_data/v4avg_lights_x_pct/F121996.v4b.avg_lights_x_pct.tar',\n",
       " '/eog/data/web_data/v4avg_lights_x_pct/F121997.v4b.avg_lights_x_pct.tar',\n",
       " '/eog/data/web_data/v4avg_lights_x_pct/F141997.v4b.avg_lights_x_pct.tar',\n",
       " '/eog/data/web_data/v4avg_lights_x_pct/F121998.v4b.avg_lights_x_pct.tar',\n",
       " '/eog/data/web_data/v4avg_lights_x_pct/F141998.v4b.avg_lights_x_pct.tar',\n",
       " '/eog/data/web_data/v4avg_lights_x_pct/F121999.v4b.avg_lights_x_pct.tar',\n",
       " '/eog/data/web_data/v4avg_lights_x_pct/F141999.v4b.avg_lights_x_pct.tar',\n",
       " '/eog/data/web_data/v4avg_lights_x_pct/F142000.v4b.avg_lights_x_pct.tar',\n",
       " '/eog/data/web_data/v4avg_lights_x_pct/F152000.v4b.avg_lights_x_pct.tar',\n",
       " '/eog/data/web_data/v4avg_lights_x_pct/F142001.v4b.avg_lights_x_pct.tar',\n",
       " '/eog/data/web_data/v4avg_lights_x_pct/F152001.v4b.avg_lights_x_pct.tar',\n",
       " '/eog/data/web_data/v4avg_lights_x_pct/F142002.v4b.avg_lights_x_pct.tar',\n",
       " '/eog/data/web_data/v4avg_lights_x_pct/F152002.v4b.avg_lights_x_pct.tar',\n",
       " '/eog/data/web_data/v4avg_lights_x_pct/F142003.v4b.avg_lights_x_pct.tar',\n",
       " '/eog/data/web_data/v4avg_lights_x_pct/F152003.v4b.avg_lights_x_pct.tar',\n",
       " '/eog/data/web_data/v4avg_lights_x_pct/F152004.v4b.avg_lights_x_pct.tar',\n",
       " '/eog/data/web_data/v4avg_lights_x_pct/F162004.v4b.avg_lights_x_pct.tar',\n",
       " '/eog/data/web_data/v4avg_lights_x_pct/F152005.v4b.avg_lights_x_pct.tar',\n",
       " '/eog/data/web_data/v4avg_lights_x_pct/F162005.v4b.avg_lights_x_pct.tar',\n",
       " '/eog/data/web_data/v4avg_lights_x_pct/F152006.v4b.avg_lights_x_pct.tar',\n",
       " '/eog/data/web_data/v4avg_lights_x_pct/F162006.v4b.avg_lights_x_pct.tar',\n",
       " '/eog/data/web_data/v4avg_lights_x_pct/F152007.v4b.avg_lights_x_pct.tar',\n",
       " '/eog/data/web_data/v4avg_lights_x_pct/F162007.v4b.avg_lights_x_pct.tar',\n",
       " '/eog/data/web_data/v4avg_lights_x_pct/F162008.v4b.avg_lights_x_pct.tar',\n",
       " '/eog/data/web_data/v4avg_lights_x_pct/F162009.v4b.avg_lights_x_pct.tar',\n",
       " '/eog/data/web_data/v4avg_lights_x_pct/F182010.v4c.avg_lights_x_pct.tar',\n",
       " '/eog/data/web_data/v4avg_lights_x_pct/F182011.v4c.avg_lights_x_pct.tar',\n",
       " '/eog/data/web_data/v4avg_lights_x_pct/F182012.v4c.avg_lights_x_pct.tar',\n",
       " '/eog/data/web_data/v4avg_lights_x_pct/F182013.v4c.avg_lights_x_pct.tar']"
      ]
     },
     "execution_count": 46,
     "metadata": {},
     "output_type": "execute_result"
    }
   ],
   "source": [
    "# download lights data\n",
    "base_url = 'http://ngdc.noaa.gov/eog/dmsp/downloadV4composites.html'\n",
    "soup = BeautifulSoup(urlopen(base_url), 'lxml')\n",
    "\n",
    "links_list = []\n",
    "for i in soup.find_all('a'):\n",
    "    link = i.get('href')\n",
    "    links_list.append(link)\n",
    "\n",
    "links_list = filter(None, links_list)\n",
    "links_list = [x for x in links_list if '.tar' in x]\n",
    "\n",
    "links_list_cleaned = []\n",
    "for i in links_list:\n",
    "    replacement = i.replace('\\n', '')\n",
    "    links_list_cleaned.append(replacement)\n",
    "links_list_cleaned\n",
    "# http://ngdc.noaa.gov/eog/data/web_data/v4composites/F101992.v4.tar\n",
    "#'/eog/data/web_data/v4avg_lights_\\nx_pct/F182013.v4c.avg_lights_x_pct.tar'"
   ]
  },
  {
   "cell_type": "code",
   "execution_count": null,
   "metadata": {
    "collapsed": true
   },
   "outputs": [],
   "source": []
  }
 ],
 "metadata": {
  "kernelspec": {
   "display_name": "Python 2",
   "language": "python",
   "name": "python2"
  },
  "language_info": {
   "codemirror_mode": {
    "name": "ipython",
    "version": 2
   },
   "file_extension": ".py",
   "mimetype": "text/x-python",
   "name": "python",
   "nbconvert_exporter": "python",
   "pygments_lexer": "ipython2",
   "version": "2.7.11"
  }
 },
 "nbformat": 4,
 "nbformat_minor": 0
}
